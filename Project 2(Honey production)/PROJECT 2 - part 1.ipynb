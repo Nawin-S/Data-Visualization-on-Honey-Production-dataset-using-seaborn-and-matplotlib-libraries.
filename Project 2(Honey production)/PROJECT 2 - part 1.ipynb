{
 "cells": [
  {
   "cell_type": "markdown",
   "id": "ac0584c1",
   "metadata": {},
   "source": [
    "# Q1. Import required libraries and read the dataset."
   ]
  },
  {
   "cell_type": "code",
   "execution_count": 3,
   "id": "c9d62555",
   "metadata": {},
   "outputs": [],
   "source": [
    "import pandas as pd\n",
    "import numpy as np\n",
    "\n",
    "import matplotlib.pyplot as plt\n",
    "import seaborn as sns\n",
    "\n",
    "from sklearn.preprocessing import MinMaxScaler\n",
    "from sklearn.preprocessing import LabelEncoder\n",
    "from sklearn.model_selection import train_test_split\n",
    "\n",
    "import warnings\n",
    "warnings.filterwarnings('ignore')"
   ]
  },
  {
   "cell_type": "code",
   "execution_count": 4,
   "id": "bcbe366c",
   "metadata": {},
   "outputs": [],
   "source": [
    "app=pd.read_csv('Apps_data+(1).csv')"
   ]
  },
  {
   "cell_type": "markdown",
   "id": "817ce102",
   "metadata": {},
   "source": [
    "# Q2. Check the first few samples, shape, info of the data and try to familiarize yourself with different features."
   ]
  },
  {
   "cell_type": "code",
   "execution_count": 5,
   "id": "6a77e868",
   "metadata": {},
   "outputs": [
    {
     "data": {
      "text/html": [
       "<div>\n",
       "<style scoped>\n",
       "    .dataframe tbody tr th:only-of-type {\n",
       "        vertical-align: middle;\n",
       "    }\n",
       "\n",
       "    .dataframe tbody tr th {\n",
       "        vertical-align: top;\n",
       "    }\n",
       "\n",
       "    .dataframe thead th {\n",
       "        text-align: right;\n",
       "    }\n",
       "</style>\n",
       "<table border=\"1\" class=\"dataframe\">\n",
       "  <thead>\n",
       "    <tr style=\"text-align: right;\">\n",
       "      <th></th>\n",
       "      <th>App</th>\n",
       "      <th>Category</th>\n",
       "      <th>Rating</th>\n",
       "      <th>Reviews</th>\n",
       "      <th>Size</th>\n",
       "      <th>Installs</th>\n",
       "      <th>Type</th>\n",
       "      <th>Price</th>\n",
       "      <th>Content Rating</th>\n",
       "      <th>Genres</th>\n",
       "      <th>Last Updated</th>\n",
       "      <th>Current Ver</th>\n",
       "      <th>Android Ver</th>\n",
       "    </tr>\n",
       "  </thead>\n",
       "  <tbody>\n",
       "    <tr>\n",
       "      <th>9403</th>\n",
       "      <td>Virtual Mother Surgery Doctor : Emergency Hosp...</td>\n",
       "      <td>FAMILY</td>\n",
       "      <td>3.9</td>\n",
       "      <td>70</td>\n",
       "      <td>61M</td>\n",
       "      <td>10,000+</td>\n",
       "      <td>Free</td>\n",
       "      <td>0</td>\n",
       "      <td>Teen</td>\n",
       "      <td>Educational</td>\n",
       "      <td>May 30, 2018</td>\n",
       "      <td>1.1</td>\n",
       "      <td>4.0 and up</td>\n",
       "    </tr>\n",
       "    <tr>\n",
       "      <th>9137</th>\n",
       "      <td>quran-DZ</td>\n",
       "      <td>SOCIAL</td>\n",
       "      <td>NaN</td>\n",
       "      <td>0</td>\n",
       "      <td>6.2M</td>\n",
       "      <td>10+</td>\n",
       "      <td>Free</td>\n",
       "      <td>0</td>\n",
       "      <td>Teen</td>\n",
       "      <td>Social</td>\n",
       "      <td>June 13, 2018</td>\n",
       "      <td>1.1</td>\n",
       "      <td>4.2 and up</td>\n",
       "    </tr>\n",
       "    <tr>\n",
       "      <th>10222</th>\n",
       "      <td>Check Your Visitors on FB ?</td>\n",
       "      <td>SOCIAL</td>\n",
       "      <td>3.6</td>\n",
       "      <td>40</td>\n",
       "      <td>1.5M</td>\n",
       "      <td>5,000+</td>\n",
       "      <td>Free</td>\n",
       "      <td>0</td>\n",
       "      <td>Everyone</td>\n",
       "      <td>Social</td>\n",
       "      <td>February 17, 2017</td>\n",
       "      <td>4.4</td>\n",
       "      <td>4.2 and up</td>\n",
       "    </tr>\n",
       "    <tr>\n",
       "      <th>7700</th>\n",
       "      <td>CP Surprise</td>\n",
       "      <td>LIFESTYLE</td>\n",
       "      <td>3.8</td>\n",
       "      <td>2548</td>\n",
       "      <td>4.9M</td>\n",
       "      <td>100,000+</td>\n",
       "      <td>Free</td>\n",
       "      <td>0</td>\n",
       "      <td>Everyone</td>\n",
       "      <td>Lifestyle</td>\n",
       "      <td>January 30, 2018</td>\n",
       "      <td>4.4.2</td>\n",
       "      <td>4.1 and up</td>\n",
       "    </tr>\n",
       "    <tr>\n",
       "      <th>7908</th>\n",
       "      <td>Cyprus CU Mobile Banking</td>\n",
       "      <td>FINANCE</td>\n",
       "      <td>3.4</td>\n",
       "      <td>295</td>\n",
       "      <td>Varies with device</td>\n",
       "      <td>10,000+</td>\n",
       "      <td>Free</td>\n",
       "      <td>0</td>\n",
       "      <td>Everyone</td>\n",
       "      <td>Finance</td>\n",
       "      <td>February 13, 2018</td>\n",
       "      <td>5.3.4</td>\n",
       "      <td>4.4 and up</td>\n",
       "    </tr>\n",
       "  </tbody>\n",
       "</table>\n",
       "</div>"
      ],
      "text/plain": [
       "                                                     App   Category  Rating  \\\n",
       "9403   Virtual Mother Surgery Doctor : Emergency Hosp...     FAMILY     3.9   \n",
       "9137                                            quran-DZ     SOCIAL     NaN   \n",
       "10222                        Check Your Visitors on FB ?     SOCIAL     3.6   \n",
       "7700                                         CP Surprise  LIFESTYLE     3.8   \n",
       "7908                            Cyprus CU Mobile Banking    FINANCE     3.4   \n",
       "\n",
       "      Reviews                Size  Installs  Type Price Content Rating  \\\n",
       "9403       70                 61M   10,000+  Free     0           Teen   \n",
       "9137        0                6.2M       10+  Free     0           Teen   \n",
       "10222      40                1.5M    5,000+  Free     0       Everyone   \n",
       "7700     2548                4.9M  100,000+  Free     0       Everyone   \n",
       "7908      295  Varies with device   10,000+  Free     0       Everyone   \n",
       "\n",
       "            Genres       Last Updated Current Ver Android Ver  \n",
       "9403   Educational       May 30, 2018         1.1  4.0 and up  \n",
       "9137        Social      June 13, 2018         1.1  4.2 and up  \n",
       "10222       Social  February 17, 2017         4.4  4.2 and up  \n",
       "7700     Lifestyle   January 30, 2018       4.4.2  4.1 and up  \n",
       "7908       Finance  February 13, 2018       5.3.4  4.4 and up  "
      ]
     },
     "execution_count": 5,
     "metadata": {},
     "output_type": "execute_result"
    }
   ],
   "source": [
    "app.sample(5)"
   ]
  },
  {
   "cell_type": "code",
   "execution_count": 6,
   "id": "4ca69d10",
   "metadata": {},
   "outputs": [
    {
     "data": {
      "text/plain": [
       "(10841, 13)"
      ]
     },
     "execution_count": 6,
     "metadata": {},
     "output_type": "execute_result"
    }
   ],
   "source": [
    "app.shape"
   ]
  },
  {
   "cell_type": "code",
   "execution_count": 7,
   "id": "df66ecb8",
   "metadata": {},
   "outputs": [
    {
     "name": "stdout",
     "output_type": "stream",
     "text": [
      "<class 'pandas.core.frame.DataFrame'>\n",
      "RangeIndex: 10841 entries, 0 to 10840\n",
      "Data columns (total 13 columns):\n",
      " #   Column          Non-Null Count  Dtype  \n",
      "---  ------          --------------  -----  \n",
      " 0   App             10841 non-null  object \n",
      " 1   Category        10841 non-null  object \n",
      " 2   Rating          9367 non-null   float64\n",
      " 3   Reviews         10841 non-null  object \n",
      " 4   Size            10841 non-null  object \n",
      " 5   Installs        10841 non-null  object \n",
      " 6   Type            10840 non-null  object \n",
      " 7   Price           10841 non-null  object \n",
      " 8   Content Rating  10840 non-null  object \n",
      " 9   Genres          10841 non-null  object \n",
      " 10  Last Updated    10841 non-null  object \n",
      " 11  Current Ver     10833 non-null  object \n",
      " 12  Android Ver     10838 non-null  object \n",
      "dtypes: float64(1), object(12)\n",
      "memory usage: 1.1+ MB\n"
     ]
    }
   ],
   "source": [
    "app.info()"
   ]
  },
  {
   "cell_type": "markdown",
   "id": "b4c34ef4",
   "metadata": {},
   "source": [
    "### About Dataset:\n",
    "\n",
    "- Rows count - 10841\n",
    "- Feature count - 13\n",
    "- Categorical features - Category,Type,Content rating,Genres,\n",
    "- Numerical features - Rating,reviews,size,install,price,current version\n",
    "- There are null values in Rating,Type,Content rating,Current version,Android version"
   ]
  },
  {
   "cell_type": "markdown",
   "id": "2a4d1a27",
   "metadata": {},
   "source": [
    "# Q3. Check summary statistics of the dataset. List out the columns that need to be worked upon for model building."
   ]
  },
  {
   "cell_type": "code",
   "execution_count": 8,
   "id": "d59eec45",
   "metadata": {},
   "outputs": [
    {
     "data": {
      "text/html": [
       "<div>\n",
       "<style scoped>\n",
       "    .dataframe tbody tr th:only-of-type {\n",
       "        vertical-align: middle;\n",
       "    }\n",
       "\n",
       "    .dataframe tbody tr th {\n",
       "        vertical-align: top;\n",
       "    }\n",
       "\n",
       "    .dataframe thead th {\n",
       "        text-align: right;\n",
       "    }\n",
       "</style>\n",
       "<table border=\"1\" class=\"dataframe\">\n",
       "  <thead>\n",
       "    <tr style=\"text-align: right;\">\n",
       "      <th></th>\n",
       "      <th>Rating</th>\n",
       "    </tr>\n",
       "  </thead>\n",
       "  <tbody>\n",
       "    <tr>\n",
       "      <th>count</th>\n",
       "      <td>9367.000000</td>\n",
       "    </tr>\n",
       "    <tr>\n",
       "      <th>mean</th>\n",
       "      <td>4.193338</td>\n",
       "    </tr>\n",
       "    <tr>\n",
       "      <th>std</th>\n",
       "      <td>0.537431</td>\n",
       "    </tr>\n",
       "    <tr>\n",
       "      <th>min</th>\n",
       "      <td>1.000000</td>\n",
       "    </tr>\n",
       "    <tr>\n",
       "      <th>25%</th>\n",
       "      <td>4.000000</td>\n",
       "    </tr>\n",
       "    <tr>\n",
       "      <th>50%</th>\n",
       "      <td>4.300000</td>\n",
       "    </tr>\n",
       "    <tr>\n",
       "      <th>75%</th>\n",
       "      <td>4.500000</td>\n",
       "    </tr>\n",
       "    <tr>\n",
       "      <th>max</th>\n",
       "      <td>19.000000</td>\n",
       "    </tr>\n",
       "  </tbody>\n",
       "</table>\n",
       "</div>"
      ],
      "text/plain": [
       "            Rating\n",
       "count  9367.000000\n",
       "mean      4.193338\n",
       "std       0.537431\n",
       "min       1.000000\n",
       "25%       4.000000\n",
       "50%       4.300000\n",
       "75%       4.500000\n",
       "max      19.000000"
      ]
     },
     "execution_count": 8,
     "metadata": {},
     "output_type": "execute_result"
    }
   ],
   "source": [
    "app.describe()"
   ]
  },
  {
   "cell_type": "code",
   "execution_count": 9,
   "id": "a6fb8f72",
   "metadata": {},
   "outputs": [
    {
     "data": {
      "text/html": [
       "<div>\n",
       "<style scoped>\n",
       "    .dataframe tbody tr th:only-of-type {\n",
       "        vertical-align: middle;\n",
       "    }\n",
       "\n",
       "    .dataframe tbody tr th {\n",
       "        vertical-align: top;\n",
       "    }\n",
       "\n",
       "    .dataframe thead th {\n",
       "        text-align: right;\n",
       "    }\n",
       "</style>\n",
       "<table border=\"1\" class=\"dataframe\">\n",
       "  <thead>\n",
       "    <tr style=\"text-align: right;\">\n",
       "      <th></th>\n",
       "      <th>App</th>\n",
       "      <th>Category</th>\n",
       "      <th>Reviews</th>\n",
       "      <th>Size</th>\n",
       "      <th>Installs</th>\n",
       "      <th>Type</th>\n",
       "      <th>Price</th>\n",
       "      <th>Content Rating</th>\n",
       "      <th>Genres</th>\n",
       "      <th>Last Updated</th>\n",
       "      <th>Current Ver</th>\n",
       "      <th>Android Ver</th>\n",
       "    </tr>\n",
       "  </thead>\n",
       "  <tbody>\n",
       "    <tr>\n",
       "      <th>count</th>\n",
       "      <td>10841</td>\n",
       "      <td>10841</td>\n",
       "      <td>10841</td>\n",
       "      <td>10841</td>\n",
       "      <td>10841</td>\n",
       "      <td>10840</td>\n",
       "      <td>10841</td>\n",
       "      <td>10840</td>\n",
       "      <td>10841</td>\n",
       "      <td>10841</td>\n",
       "      <td>10833</td>\n",
       "      <td>10838</td>\n",
       "    </tr>\n",
       "    <tr>\n",
       "      <th>unique</th>\n",
       "      <td>9660</td>\n",
       "      <td>34</td>\n",
       "      <td>6002</td>\n",
       "      <td>462</td>\n",
       "      <td>22</td>\n",
       "      <td>3</td>\n",
       "      <td>93</td>\n",
       "      <td>6</td>\n",
       "      <td>120</td>\n",
       "      <td>1378</td>\n",
       "      <td>2832</td>\n",
       "      <td>33</td>\n",
       "    </tr>\n",
       "    <tr>\n",
       "      <th>top</th>\n",
       "      <td>ROBLOX</td>\n",
       "      <td>FAMILY</td>\n",
       "      <td>0</td>\n",
       "      <td>Varies with device</td>\n",
       "      <td>1,000,000+</td>\n",
       "      <td>Free</td>\n",
       "      <td>0</td>\n",
       "      <td>Everyone</td>\n",
       "      <td>Tools</td>\n",
       "      <td>August 3, 2018</td>\n",
       "      <td>Varies with device</td>\n",
       "      <td>4.1 and up</td>\n",
       "    </tr>\n",
       "    <tr>\n",
       "      <th>freq</th>\n",
       "      <td>9</td>\n",
       "      <td>1972</td>\n",
       "      <td>596</td>\n",
       "      <td>1695</td>\n",
       "      <td>1579</td>\n",
       "      <td>10039</td>\n",
       "      <td>10040</td>\n",
       "      <td>8714</td>\n",
       "      <td>842</td>\n",
       "      <td>326</td>\n",
       "      <td>1459</td>\n",
       "      <td>2451</td>\n",
       "    </tr>\n",
       "  </tbody>\n",
       "</table>\n",
       "</div>"
      ],
      "text/plain": [
       "           App Category Reviews                Size    Installs   Type  Price  \\\n",
       "count    10841    10841   10841               10841       10841  10840  10841   \n",
       "unique    9660       34    6002                 462          22      3     93   \n",
       "top     ROBLOX   FAMILY       0  Varies with device  1,000,000+   Free      0   \n",
       "freq         9     1972     596                1695        1579  10039  10040   \n",
       "\n",
       "       Content Rating Genres    Last Updated         Current Ver Android Ver  \n",
       "count           10840  10841           10841               10833       10838  \n",
       "unique              6    120            1378                2832          33  \n",
       "top          Everyone  Tools  August 3, 2018  Varies with device  4.1 and up  \n",
       "freq             8714    842             326                1459        2451  "
      ]
     },
     "execution_count": 9,
     "metadata": {},
     "output_type": "execute_result"
    }
   ],
   "source": [
    "app.describe(include='object')"
   ]
  },
  {
   "cell_type": "markdown",
   "id": "a0434c04",
   "metadata": {},
   "source": [
    "- There is only one numeric type feature\n",
    "- But there are few features such as size,Reviews,Category,Installs,Price which can be worked upon for building model\n",
    "- Since they are actually numbers but some garbage value is changing them to object Datatype"
   ]
  },
  {
   "cell_type": "markdown",
   "id": "101e5b98",
   "metadata": {},
   "source": [
    "# Q4. Check if there are any duplicate records in the dataset? if any drop them."
   ]
  },
  {
   "cell_type": "code",
   "execution_count": 10,
   "id": "4ca5e300",
   "metadata": {},
   "outputs": [
    {
     "data": {
      "text/plain": [
       "483"
      ]
     },
     "execution_count": 10,
     "metadata": {},
     "output_type": "execute_result"
    }
   ],
   "source": [
    "app.duplicated().sum()"
   ]
  },
  {
   "cell_type": "code",
   "execution_count": 11,
   "id": "1e0c629e",
   "metadata": {},
   "outputs": [],
   "source": [
    "app.drop_duplicates(keep='first',inplace=True)"
   ]
  },
  {
   "cell_type": "code",
   "execution_count": 12,
   "id": "1aa4323d",
   "metadata": {},
   "outputs": [
    {
     "data": {
      "text/plain": [
       "0"
      ]
     },
     "execution_count": 12,
     "metadata": {},
     "output_type": "execute_result"
    }
   ],
   "source": [
    "app.duplicated().sum()"
   ]
  },
  {
   "cell_type": "markdown",
   "id": "6381d66a",
   "metadata": {},
   "source": [
    "- There were around 483 duplicate app records in the given Dataset\n",
    "- We have dropped them  \n",
    "- It doesn't make sense to have duplicate values since it will not add any value to the model"
   ]
  },
  {
   "cell_type": "markdown",
   "id": "e9208fa3",
   "metadata": {},
   "source": [
    "# Q5. Check the unique categories of the column 'Category', Is there any invalid category? If yes, drop them.\n"
   ]
  },
  {
   "cell_type": "code",
   "execution_count": 13,
   "id": "bdadffdb",
   "metadata": {},
   "outputs": [
    {
     "data": {
      "text/plain": [
       "['ART_AND_DESIGN',\n",
       " 'AUTO_AND_VEHICLES',\n",
       " 'BEAUTY',\n",
       " 'BOOKS_AND_REFERENCE',\n",
       " 'BUSINESS',\n",
       " 'COMICS',\n",
       " 'COMMUNICATION',\n",
       " 'DATING',\n",
       " 'EDUCATION',\n",
       " 'ENTERTAINMENT',\n",
       " 'EVENTS',\n",
       " 'FINANCE',\n",
       " 'FOOD_AND_DRINK',\n",
       " 'HEALTH_AND_FITNESS',\n",
       " 'HOUSE_AND_HOME',\n",
       " 'LIBRARIES_AND_DEMO',\n",
       " 'LIFESTYLE',\n",
       " 'GAME',\n",
       " 'FAMILY',\n",
       " 'MEDICAL',\n",
       " 'SOCIAL',\n",
       " 'SHOPPING',\n",
       " 'PHOTOGRAPHY',\n",
       " 'SPORTS',\n",
       " 'TRAVEL_AND_LOCAL',\n",
       " 'TOOLS',\n",
       " 'PERSONALIZATION',\n",
       " 'PRODUCTIVITY',\n",
       " 'PARENTING',\n",
       " 'WEATHER',\n",
       " 'VIDEO_PLAYERS',\n",
       " 'NEWS_AND_MAGAZINES',\n",
       " 'MAPS_AND_NAVIGATION',\n",
       " '1.9']"
      ]
     },
     "execution_count": 13,
     "metadata": {},
     "output_type": "execute_result"
    }
   ],
   "source": [
    "list(pd.unique(app['Category']))"
   ]
  },
  {
   "cell_type": "code",
   "execution_count": 14,
   "id": "aca2b619",
   "metadata": {},
   "outputs": [],
   "source": [
    "app1=app.copy()"
   ]
  },
  {
   "cell_type": "code",
   "execution_count": 15,
   "id": "040eaf93",
   "metadata": {},
   "outputs": [],
   "source": [
    "app1=app[app['Category']!='1.9']"
   ]
  },
  {
   "cell_type": "code",
   "execution_count": 16,
   "id": "cbeb8f5a",
   "metadata": {},
   "outputs": [
    {
     "data": {
      "text/plain": [
       "['ART_AND_DESIGN',\n",
       " 'AUTO_AND_VEHICLES',\n",
       " 'BEAUTY',\n",
       " 'BOOKS_AND_REFERENCE',\n",
       " 'BUSINESS',\n",
       " 'COMICS',\n",
       " 'COMMUNICATION',\n",
       " 'DATING',\n",
       " 'EDUCATION',\n",
       " 'ENTERTAINMENT',\n",
       " 'EVENTS',\n",
       " 'FINANCE',\n",
       " 'FOOD_AND_DRINK',\n",
       " 'HEALTH_AND_FITNESS',\n",
       " 'HOUSE_AND_HOME',\n",
       " 'LIBRARIES_AND_DEMO',\n",
       " 'LIFESTYLE',\n",
       " 'GAME',\n",
       " 'FAMILY',\n",
       " 'MEDICAL',\n",
       " 'SOCIAL',\n",
       " 'SHOPPING',\n",
       " 'PHOTOGRAPHY',\n",
       " 'SPORTS',\n",
       " 'TRAVEL_AND_LOCAL',\n",
       " 'TOOLS',\n",
       " 'PERSONALIZATION',\n",
       " 'PRODUCTIVITY',\n",
       " 'PARENTING',\n",
       " 'WEATHER',\n",
       " 'VIDEO_PLAYERS',\n",
       " 'NEWS_AND_MAGAZINES',\n",
       " 'MAPS_AND_NAVIGATION']"
      ]
     },
     "execution_count": 16,
     "metadata": {},
     "output_type": "execute_result"
    }
   ],
   "source": [
    "list(pd.unique(app1['Category']))"
   ]
  },
  {
   "cell_type": "markdown",
   "id": "b1cdc48e",
   "metadata": {},
   "source": [
    "- There is a category named 1.9 which is a invalid category\n",
    "- So we drop it out from our Dataset"
   ]
  },
  {
   "cell_type": "markdown",
   "id": "d701cb49",
   "metadata": {},
   "source": [
    "# Q6. Check if there are missing values present in the column Rating, If any? drop them and and create a new column as 'Rating_category' by converting ratings to high and low categories(>3.5 is high rest low)\n"
   ]
  },
  {
   "cell_type": "code",
   "execution_count": 17,
   "id": "a2a63331",
   "metadata": {},
   "outputs": [
    {
     "data": {
      "text/plain": [
       "1465"
      ]
     },
     "execution_count": 17,
     "metadata": {},
     "output_type": "execute_result"
    }
   ],
   "source": [
    "app1['Rating'].isnull().sum()"
   ]
  },
  {
   "cell_type": "code",
   "execution_count": 18,
   "id": "4e20b666",
   "metadata": {},
   "outputs": [],
   "source": [
    "app2=app1.copy()\n",
    "app2.dropna(subset='Rating',inplace=True)"
   ]
  },
  {
   "cell_type": "code",
   "execution_count": 19,
   "id": "400c54ad",
   "metadata": {},
   "outputs": [
    {
     "data": {
      "text/plain": [
       "0"
      ]
     },
     "execution_count": 19,
     "metadata": {},
     "output_type": "execute_result"
    }
   ],
   "source": [
    "app2['Rating'].isnull().sum()"
   ]
  },
  {
   "cell_type": "markdown",
   "id": "edc5fb25",
   "metadata": {},
   "source": [
    "- We have removed the null values in Rating category"
   ]
  },
  {
   "cell_type": "code",
   "execution_count": 20,
   "id": "2b81b64c",
   "metadata": {},
   "outputs": [],
   "source": [
    "def conversion(x):\n",
    "    if x > 3.5:\n",
    "        return 'High'\n",
    "    else:\n",
    "        return 'Low'"
   ]
  },
  {
   "cell_type": "code",
   "execution_count": 21,
   "id": "d699f651",
   "metadata": {},
   "outputs": [],
   "source": [
    "app2[['Rating_category']]=np.nan"
   ]
  },
  {
   "cell_type": "code",
   "execution_count": 22,
   "id": "d21cefeb",
   "metadata": {},
   "outputs": [],
   "source": [
    "app2['Rating_category']=app2['Rating'].map(conversion)"
   ]
  },
  {
   "cell_type": "code",
   "execution_count": 23,
   "id": "da63fe2d",
   "metadata": {},
   "outputs": [
    {
     "data": {
      "text/html": [
       "<div>\n",
       "<style scoped>\n",
       "    .dataframe tbody tr th:only-of-type {\n",
       "        vertical-align: middle;\n",
       "    }\n",
       "\n",
       "    .dataframe tbody tr th {\n",
       "        vertical-align: top;\n",
       "    }\n",
       "\n",
       "    .dataframe thead th {\n",
       "        text-align: right;\n",
       "    }\n",
       "</style>\n",
       "<table border=\"1\" class=\"dataframe\">\n",
       "  <thead>\n",
       "    <tr style=\"text-align: right;\">\n",
       "      <th></th>\n",
       "      <th>Rating</th>\n",
       "      <th>Rating_category</th>\n",
       "    </tr>\n",
       "  </thead>\n",
       "  <tbody>\n",
       "    <tr>\n",
       "      <th>1386</th>\n",
       "      <td>4.6</td>\n",
       "      <td>High</td>\n",
       "    </tr>\n",
       "    <tr>\n",
       "      <th>346</th>\n",
       "      <td>4.3</td>\n",
       "      <td>High</td>\n",
       "    </tr>\n",
       "    <tr>\n",
       "      <th>1714</th>\n",
       "      <td>4.8</td>\n",
       "      <td>High</td>\n",
       "    </tr>\n",
       "    <tr>\n",
       "      <th>10165</th>\n",
       "      <td>4.1</td>\n",
       "      <td>High</td>\n",
       "    </tr>\n",
       "    <tr>\n",
       "      <th>1986</th>\n",
       "      <td>4.4</td>\n",
       "      <td>High</td>\n",
       "    </tr>\n",
       "  </tbody>\n",
       "</table>\n",
       "</div>"
      ],
      "text/plain": [
       "       Rating Rating_category\n",
       "1386      4.6            High\n",
       "346       4.3            High\n",
       "1714      4.8            High\n",
       "10165     4.1            High\n",
       "1986      4.4            High"
      ]
     },
     "execution_count": 23,
     "metadata": {},
     "output_type": "execute_result"
    }
   ],
   "source": [
    "app2[['Rating','Rating_category']].sample(5)"
   ]
  },
  {
   "cell_type": "markdown",
   "id": "68c97b1a",
   "metadata": {},
   "source": [
    "- We have used map function to convert ratings to high and low categories"
   ]
  },
  {
   "cell_type": "markdown",
   "id": "373e6cc1",
   "metadata": {},
   "source": [
    "# Q7. Check the distribution of the newly created column 'Rating_category' and comment on the distribution.\n"
   ]
  },
  {
   "cell_type": "code",
   "execution_count": 24,
   "id": "866d3dbe",
   "metadata": {},
   "outputs": [
    {
     "data": {
      "image/png": "[encoded data removed]",
      "text/plain": [
       "<Figure size 500x500 with 1 Axes>"
      ]
     },
     "metadata": {},
     "output_type": "display_data"
    }
   ],
   "source": [
    "sns.displot(data=app2,x='Rating_category',kind='hist',color='green');"
   ]
  },
  {
   "cell_type": "markdown",
   "id": "c78561a4",
   "metadata": {},
   "source": [
    "- There are nearly 8000 apps with High ratings(>3.5)\n",
    "- There are around 1000 apps with low ratings(<3.5)"
   ]
  },
  {
   "cell_type": "markdown",
   "id": "0470de23",
   "metadata": {},
   "source": [
    "# Q8. Convert the column \"Reviews'' to numeric data type and check the presence of outliers in the column and handle the outliers using a transformation approach.(Hint: Use log transformation)\n"
   ]
  },
  {
   "cell_type": "code",
   "execution_count": 25,
   "id": "19f78aec",
   "metadata": {},
   "outputs": [],
   "source": [
    "app2['Reviews']=app2['Reviews'].astype('int')"
   ]
  },
  {
   "cell_type": "code",
   "execution_count": 26,
   "id": "ca333fad",
   "metadata": {},
   "outputs": [
    {
     "data": {
      "text/plain": [
       "App                 object\n",
       "Category            object\n",
       "Rating             float64\n",
       "Reviews              int32\n",
       "Size                object\n",
       "Installs            object\n",
       "Type                object\n",
       "Price               object\n",
       "Content Rating      object\n",
       "Genres              object\n",
       "Last Updated        object\n",
       "Current Ver         object\n",
       "Android Ver         object\n",
       "Rating_category     object\n",
       "dtype: object"
      ]
     },
     "execution_count": 26,
     "metadata": {},
     "output_type": "execute_result"
    }
   ],
   "source": [
    "app2.dtypes"
   ]
  },
  {
   "cell_type": "markdown",
   "id": "f4979ff0",
   "metadata": {},
   "source": [
    "- Here we have converted the datatype of Reviews column from object to int"
   ]
  },
  {
   "cell_type": "code",
   "execution_count": 27,
   "id": "08ed1a6d",
   "metadata": {},
   "outputs": [
    {
     "data": {
      "image/png": "[encoded data removed]",
      "text/plain": [
       "<Figure size 640x480 with 1 Axes>"
      ]
     },
     "metadata": {},
     "output_type": "display_data"
    }
   ],
   "source": [
    "sns.boxplot(data=app2,x='Reviews',);"
   ]
  },
  {
   "cell_type": "markdown",
   "id": "c1801980",
   "metadata": {},
   "source": [
    "- There are lot of outliers in the column Reviews\n",
    "- We need to scale it"
   ]
  },
  {
   "cell_type": "code",
   "execution_count": 28,
   "id": "a652314b",
   "metadata": {},
   "outputs": [],
   "source": [
    "log_t=FunctionTransformer(np.log1p)\n",
    "app2['Reviews']=pd.DataFrame(log_t.fit_transform(app2[['Reviews']]))"
   ]
  },
  {
   "cell_type": "code",
   "execution_count": 29,
   "id": "dc9eecec",
   "metadata": {},
   "outputs": [
    {
     "data": {
      "image/png": "[encoded data removed]",
      "text/plain": [
       "<Figure size 500x500 with 1 Axes>"
      ]
     },
     "metadata": {},
     "output_type": "display_data"
    }
   ],
   "source": [
    "sns.catplot(data=app2,x='Reviews',kind='box',color='orange');"
   ]
  },
  {
   "cell_type": "markdown",
   "id": "3f2483e3",
   "metadata": {},
   "source": [
    "- We have dealt with outliers by using Log transformation\n",
    "- Since the values are larger we used Log transformation method to scale the data"
   ]
  },
  {
   "cell_type": "markdown",
   "id": "9adc1af2",
   "metadata": {},
   "source": [
    "# Q9. The column 'Size' contains alphanumeric values, treat the non numeric data and convert the column into suitable data type. (hint: Replace M with 1 million and K with 1 thousand, and drop the entries where size='Varies with device')\n"
   ]
  },
  {
   "cell_type": "code",
   "execution_count": 30,
   "id": "a57ee86e",
   "metadata": {},
   "outputs": [
    {
     "data": {
      "text/html": [
       "<div>\n",
       "<style scoped>\n",
       "    .dataframe tbody tr th:only-of-type {\n",
       "        vertical-align: middle;\n",
       "    }\n",
       "\n",
       "    .dataframe tbody tr th {\n",
       "        vertical-align: top;\n",
       "    }\n",
       "\n",
       "    .dataframe thead th {\n",
       "        text-align: right;\n",
       "    }\n",
       "</style>\n",
       "<table border=\"1\" class=\"dataframe\">\n",
       "  <thead>\n",
       "    <tr style=\"text-align: right;\">\n",
       "      <th></th>\n",
       "      <th>Size</th>\n",
       "    </tr>\n",
       "  </thead>\n",
       "  <tbody>\n",
       "    <tr>\n",
       "      <th>0</th>\n",
       "      <td>19M</td>\n",
       "    </tr>\n",
       "    <tr>\n",
       "      <th>1</th>\n",
       "      <td>14M</td>\n",
       "    </tr>\n",
       "    <tr>\n",
       "      <th>2</th>\n",
       "      <td>8.7M</td>\n",
       "    </tr>\n",
       "    <tr>\n",
       "      <th>3</th>\n",
       "      <td>25M</td>\n",
       "    </tr>\n",
       "    <tr>\n",
       "      <th>4</th>\n",
       "      <td>2.8M</td>\n",
       "    </tr>\n",
       "  </tbody>\n",
       "</table>\n",
       "</div>"
      ],
      "text/plain": [
       "   Size\n",
       "0   19M\n",
       "1   14M\n",
       "2  8.7M\n",
       "3   25M\n",
       "4  2.8M"
      ]
     },
     "execution_count": 30,
     "metadata": {},
     "output_type": "execute_result"
    }
   ],
   "source": [
    "app2[['Size']].head()"
   ]
  },
  {
   "cell_type": "code",
   "execution_count": 31,
   "id": "4f93815a",
   "metadata": {},
   "outputs": [],
   "source": [
    "app2['Size']=app2['Size'].str.replace('k','000')\n",
    "app2['Size']=app2['Size'].str.replace('M','000000')"
   ]
  },
  {
   "cell_type": "code",
   "execution_count": 32,
   "id": "3c7d9a74",
   "metadata": {},
   "outputs": [],
   "source": [
    "app2=app2[app2['Size']!='Varies with device']"
   ]
  },
  {
   "cell_type": "code",
   "execution_count": 33,
   "id": "4858bff0",
   "metadata": {},
   "outputs": [],
   "source": [
    "app2['Size']=app2['Size'].astype(float)"
   ]
  },
  {
   "cell_type": "code",
   "execution_count": 34,
   "id": "f758e0df",
   "metadata": {},
   "outputs": [
    {
     "data": {
      "text/plain": [
       "dtype('float64')"
      ]
     },
     "execution_count": 34,
     "metadata": {},
     "output_type": "execute_result"
    }
   ],
   "source": [
    "app2['Size'].dtypes"
   ]
  },
  {
   "cell_type": "markdown",
   "id": "348d021c",
   "metadata": {},
   "source": [
    "# Q10. Check the column 'Installs', treat the unwanted characters and convert the column into a suitable data type."
   ]
  },
  {
   "cell_type": "code",
   "execution_count": 35,
   "id": "71d1595a",
   "metadata": {},
   "outputs": [
    {
     "data": {
      "text/html": [
       "<div>\n",
       "<style scoped>\n",
       "    .dataframe tbody tr th:only-of-type {\n",
       "        vertical-align: middle;\n",
       "    }\n",
       "\n",
       "    .dataframe tbody tr th {\n",
       "        vertical-align: top;\n",
       "    }\n",
       "\n",
       "    .dataframe thead th {\n",
       "        text-align: right;\n",
       "    }\n",
       "</style>\n",
       "<table border=\"1\" class=\"dataframe\">\n",
       "  <thead>\n",
       "    <tr style=\"text-align: right;\">\n",
       "      <th></th>\n",
       "      <th>Installs</th>\n",
       "    </tr>\n",
       "  </thead>\n",
       "  <tbody>\n",
       "    <tr>\n",
       "      <th>0</th>\n",
       "      <td>10,000+</td>\n",
       "    </tr>\n",
       "    <tr>\n",
       "      <th>1</th>\n",
       "      <td>500,000+</td>\n",
       "    </tr>\n",
       "    <tr>\n",
       "      <th>2</th>\n",
       "      <td>5,000,000+</td>\n",
       "    </tr>\n",
       "    <tr>\n",
       "      <th>3</th>\n",
       "      <td>50,000,000+</td>\n",
       "    </tr>\n",
       "    <tr>\n",
       "      <th>4</th>\n",
       "      <td>100,000+</td>\n",
       "    </tr>\n",
       "  </tbody>\n",
       "</table>\n",
       "</div>"
      ],
      "text/plain": [
       "      Installs\n",
       "0      10,000+\n",
       "1     500,000+\n",
       "2   5,000,000+\n",
       "3  50,000,000+\n",
       "4     100,000+"
      ]
     },
     "execution_count": 35,
     "metadata": {},
     "output_type": "execute_result"
    }
   ],
   "source": [
    "app2[['Installs']].head()"
   ]
  },
  {
   "cell_type": "code",
   "execution_count": 36,
   "id": "03caf080",
   "metadata": {},
   "outputs": [],
   "source": [
    "app2['Installs']=app2['Installs'].str.replace('+','',regex=True)"
   ]
  },
  {
   "cell_type": "code",
   "execution_count": 37,
   "id": "65ee28d5",
   "metadata": {},
   "outputs": [],
   "source": [
    "app2['Installs']=app2['Installs'].str.replace(',','',regex=True)"
   ]
  },
  {
   "cell_type": "code",
   "execution_count": 38,
   "id": "1b68e142",
   "metadata": {},
   "outputs": [],
   "source": [
    "app2['Installs']=app2['Installs'].astype(int)"
   ]
  },
  {
   "cell_type": "code",
   "execution_count": 39,
   "id": "9156973b",
   "metadata": {},
   "outputs": [
    {
     "data": {
      "text/plain": [
       "dtype('int32')"
      ]
     },
     "execution_count": 39,
     "metadata": {},
     "output_type": "execute_result"
    }
   ],
   "source": [
    "app2['Installs'].dtype"
   ]
  },
  {
   "cell_type": "markdown",
   "id": "edf1723a",
   "metadata": {},
   "source": [
    "# Q11. Check the column 'Price' , remove the unwanted characters and convert the column into a suitable data type."
   ]
  },
  {
   "cell_type": "code",
   "execution_count": 40,
   "id": "197c3507",
   "metadata": {},
   "outputs": [
    {
     "data": {
      "text/plain": [
       "8680    0\n",
       "1798    0\n",
       "9618    0\n",
       "7552    0\n",
       "6646    0\n",
       "Name: Price, dtype: object"
      ]
     },
     "execution_count": 40,
     "metadata": {},
     "output_type": "execute_result"
    }
   ],
   "source": [
    "app2['Price'].sample(5)"
   ]
  },
  {
   "cell_type": "code",
   "execution_count": 41,
   "id": "ee7e9031",
   "metadata": {},
   "outputs": [],
   "source": [
    "app2['Price']=app2['Price'].str.replace('$','',regex=True)"
   ]
  },
  {
   "cell_type": "code",
   "execution_count": 42,
   "id": "299e067c",
   "metadata": {},
   "outputs": [],
   "source": [
    "app2['Price']=app2['Price'].astype(float)"
   ]
  },
  {
   "cell_type": "code",
   "execution_count": 43,
   "id": "f5dfafae",
   "metadata": {},
   "outputs": [
    {
     "data": {
      "text/plain": [
       "dtype('float64')"
      ]
     },
     "execution_count": 43,
     "metadata": {},
     "output_type": "execute_result"
    }
   ],
   "source": [
    "app2['Price'].dtype"
   ]
  },
  {
   "cell_type": "markdown",
   "id": "8b1fad6e",
   "metadata": {},
   "source": [
    "# Q12. Drop the columns which you think redundant for the analysis.(suggestion: drop column 'rating', since we created a new feature from it (i.e. rating_category) and the columns 'App', 'Rating' ,'Genres','Last Updated', 'Current Ver','Android Ver' columns since which are redundant for our analysis)\n"
   ]
  },
  {
   "cell_type": "code",
   "execution_count": 44,
   "id": "dc3c8c13",
   "metadata": {},
   "outputs": [
    {
     "data": {
      "image/png": "[encoded data removed]",
      "text/plain": [
       "<Figure size 640x480 with 2 Axes>"
      ]
     },
     "metadata": {},
     "output_type": "display_data"
    }
   ],
   "source": [
    "sns.heatmap(data=app2.corr(numeric_only=True),annot=True,cmap='magma');"
   ]
  },
  {
   "cell_type": "code",
   "execution_count": 45,
   "id": "c51be1b6",
   "metadata": {},
   "outputs": [],
   "source": [
    "app2.drop(['Rating','Genres','App','Last Updated','Current Ver','Android Ver'],axis=1,inplace=True)"
   ]
  },
  {
   "cell_type": "code",
   "execution_count": 46,
   "id": "fa315991",
   "metadata": {},
   "outputs": [
    {
     "data": {
      "text/plain": [
       "Index(['Category', 'Reviews', 'Size', 'Installs', 'Type', 'Price',\n",
       "       'Content Rating', 'Rating_category'],\n",
       "      dtype='object')"
      ]
     },
     "execution_count": 46,
     "metadata": {},
     "output_type": "execute_result"
    }
   ],
   "source": [
    "app2.columns"
   ]
  },
  {
   "cell_type": "markdown",
   "id": "eb31d353",
   "metadata": {},
   "source": [
    "# Q13. Encode the categorical columns."
   ]
  },
  {
   "cell_type": "code",
   "execution_count": 47,
   "id": "2dcb9dbb",
   "metadata": {},
   "outputs": [
    {
     "data": {
      "text/plain": [
       "Category            object\n",
       "Reviews            float64\n",
       "Size               float64\n",
       "Installs             int32\n",
       "Type                object\n",
       "Price              float64\n",
       "Content Rating      object\n",
       "Rating_category     object\n",
       "dtype: object"
      ]
     },
     "execution_count": 47,
     "metadata": {},
     "output_type": "execute_result"
    }
   ],
   "source": [
    "app2.dtypes"
   ]
  },
  {
   "cell_type": "markdown",
   "id": "2611cbf0",
   "metadata": {},
   "source": [
    "- Category,Content Rating,Type,Rating category are categorical columns\n",
    "- We will encode them "
   ]
  },
  {
   "cell_type": "code",
   "execution_count": 48,
   "id": "63944880",
   "metadata": {},
   "outputs": [
    {
     "data": {
      "text/plain": [
       "33"
      ]
     },
     "execution_count": 48,
     "metadata": {},
     "output_type": "execute_result"
    }
   ],
   "source": [
    "app2['Category'].nunique()"
   ]
  },
  {
   "cell_type": "code",
   "execution_count": 49,
   "id": "66274016",
   "metadata": {},
   "outputs": [
    {
     "data": {
      "text/plain": [
       "6"
      ]
     },
     "execution_count": 49,
     "metadata": {},
     "output_type": "execute_result"
    }
   ],
   "source": [
    "app2['Content Rating'].nunique()"
   ]
  },
  {
   "cell_type": "markdown",
   "id": "dccf709c",
   "metadata": {},
   "source": [
    "- Label encode 'Category' and 'Content Rating' and 'Rating_category' features"
   ]
  },
  {
   "cell_type": "code",
   "execution_count": 50,
   "id": "d2f3bb90",
   "metadata": {},
   "outputs": [],
   "source": [
    "le=LabelEncoder()"
   ]
  },
  {
   "cell_type": "code",
   "execution_count": 51,
   "id": "ebc2b719",
   "metadata": {},
   "outputs": [],
   "source": [
    "app2['Category']=le.fit_transform(app2['Category'])"
   ]
  },
  {
   "cell_type": "code",
   "execution_count": 52,
   "id": "759c4621",
   "metadata": {},
   "outputs": [
    {
     "data": {
      "text/plain": [
       "10016    27\n",
       "4952     15\n",
       "10148    32\n",
       "8805     14\n",
       "9863     12\n",
       "Name: Category, dtype: int32"
      ]
     },
     "execution_count": 52,
     "metadata": {},
     "output_type": "execute_result"
    }
   ],
   "source": [
    "app2['Category'].sample(5)"
   ]
  },
  {
   "cell_type": "code",
   "execution_count": 53,
   "id": "564654bf",
   "metadata": {},
   "outputs": [],
   "source": [
    "app2['Content Rating']=le.fit_transform(app2['Content Rating'])"
   ]
  },
  {
   "cell_type": "code",
   "execution_count": 54,
   "id": "12ef3fca",
   "metadata": {},
   "outputs": [
    {
     "data": {
      "text/plain": [
       "8404     4\n",
       "10469    1\n",
       "10372    3\n",
       "3102     1\n",
       "1173     1\n",
       "Name: Content Rating, dtype: int32"
      ]
     },
     "execution_count": 54,
     "metadata": {},
     "output_type": "execute_result"
    }
   ],
   "source": [
    "app2['Content Rating'].sample(5)"
   ]
  },
  {
   "cell_type": "code",
   "execution_count": 55,
   "id": "d44103b1",
   "metadata": {},
   "outputs": [],
   "source": [
    "app2['Rating_category']=le.fit_transform(app2['Rating_category'])"
   ]
  },
  {
   "cell_type": "code",
   "execution_count": 56,
   "id": "5064a9fd",
   "metadata": {},
   "outputs": [
    {
     "data": {
      "text/plain": [
       "1515    0\n",
       "7688    0\n",
       "7661    0\n",
       "3431    0\n",
       "2117    0\n",
       "Name: Rating_category, dtype: int32"
      ]
     },
     "execution_count": 56,
     "metadata": {},
     "output_type": "execute_result"
    }
   ],
   "source": [
    "app2['Rating_category'].sample(5)"
   ]
  },
  {
   "cell_type": "markdown",
   "id": "f7054a0e",
   "metadata": {},
   "source": [
    "- We have label encoded the features 'Category' and 'Content Rating' and 'Rating_category'"
   ]
  },
  {
   "cell_type": "code",
   "execution_count": 57,
   "id": "27c806e8",
   "metadata": {},
   "outputs": [
    {
     "data": {
      "text/plain": [
       "2"
      ]
     },
     "execution_count": 57,
     "metadata": {},
     "output_type": "execute_result"
    }
   ],
   "source": [
    "app2['Type'].nunique()"
   ]
  },
  {
   "cell_type": "markdown",
   "id": "6a8de6ac",
   "metadata": {},
   "source": [
    "- we shall label encode 'Type' \n",
    "- Since it wont add too much columns\n",
    "- Hence our dataset wont suffer from curse of dimensionality"
   ]
  },
  {
   "cell_type": "code",
   "execution_count": 58,
   "id": "9cc889df",
   "metadata": {},
   "outputs": [],
   "source": [
    "def to_onehotencode(x):\n",
    "    return pd.get_dummies(data=x)"
   ]
  },
  {
   "cell_type": "code",
   "execution_count": 59,
   "id": "f42c9b04",
   "metadata": {},
   "outputs": [],
   "source": [
    "app3=pd.concat((app2,to_onehotencode(app2['Type'])),axis=1)"
   ]
  },
  {
   "cell_type": "code",
   "execution_count": 60,
   "id": "7b7eba0b",
   "metadata": {},
   "outputs": [],
   "source": [
    "app3.drop('Type',axis=1,inplace=True)"
   ]
  },
  {
   "cell_type": "code",
   "execution_count": 61,
   "id": "c6261388",
   "metadata": {},
   "outputs": [
    {
     "data": {
      "text/plain": [
       "['Category',\n",
       " 'Reviews',\n",
       " 'Size',\n",
       " 'Installs',\n",
       " 'Price',\n",
       " 'Content Rating',\n",
       " 'Rating_category',\n",
       " 'Free',\n",
       " 'Paid']"
      ]
     },
     "execution_count": 61,
     "metadata": {},
     "output_type": "execute_result"
    }
   ],
   "source": [
    "list(app3.columns)"
   ]
  },
  {
   "cell_type": "markdown",
   "id": "9c2d5328",
   "metadata": {},
   "source": [
    "- We have OneHotEncoded the feature 'Type'\n",
    "- We have dropped the original 'Type' feature since we have label encoded it\n",
    "- This will cause Multicollinearity problem"
   ]
  },
  {
   "cell_type": "markdown",
   "id": "832ea5b6",
   "metadata": {},
   "source": [
    "# Q14. Segregate the target and independent features (Hint: Use Rating_category as the target)\n"
   ]
  },
  {
   "cell_type": "code",
   "execution_count": 62,
   "id": "374c9047",
   "metadata": {},
   "outputs": [],
   "source": [
    "X = app3.drop('Rating_category',axis=1)"
   ]
  },
  {
   "cell_type": "code",
   "execution_count": 63,
   "id": "54ba2067",
   "metadata": {},
   "outputs": [],
   "source": [
    "y = app3[['Rating_category']]"
   ]
  },
  {
   "cell_type": "code",
   "execution_count": 64,
   "id": "90a8da7a",
   "metadata": {},
   "outputs": [
    {
     "data": {
      "text/html": [
       "<div>\n",
       "<style scoped>\n",
       "    .dataframe tbody tr th:only-of-type {\n",
       "        vertical-align: middle;\n",
       "    }\n",
       "\n",
       "    .dataframe tbody tr th {\n",
       "        vertical-align: top;\n",
       "    }\n",
       "\n",
       "    .dataframe thead th {\n",
       "        text-align: right;\n",
       "    }\n",
       "</style>\n",
       "<table border=\"1\" class=\"dataframe\">\n",
       "  <thead>\n",
       "    <tr style=\"text-align: right;\">\n",
       "      <th></th>\n",
       "      <th>Category</th>\n",
       "      <th>Reviews</th>\n",
       "      <th>Size</th>\n",
       "      <th>Installs</th>\n",
       "      <th>Price</th>\n",
       "      <th>Content Rating</th>\n",
       "      <th>Free</th>\n",
       "      <th>Paid</th>\n",
       "    </tr>\n",
       "  </thead>\n",
       "  <tbody>\n",
       "    <tr>\n",
       "      <th>1486</th>\n",
       "      <td>16</td>\n",
       "      <td>4.844187</td>\n",
       "      <td>1.9</td>\n",
       "      <td>10000</td>\n",
       "      <td>0.0</td>\n",
       "      <td>1</td>\n",
       "      <td>1</td>\n",
       "      <td>0</td>\n",
       "    </tr>\n",
       "    <tr>\n",
       "      <th>7415</th>\n",
       "      <td>14</td>\n",
       "      <td>10.308653</td>\n",
       "      <td>96000000.0</td>\n",
       "      <td>1000000</td>\n",
       "      <td>0.0</td>\n",
       "      <td>4</td>\n",
       "      <td>1</td>\n",
       "      <td>0</td>\n",
       "    </tr>\n",
       "    <tr>\n",
       "      <th>5799</th>\n",
       "      <td>29</td>\n",
       "      <td>2.890372</td>\n",
       "      <td>7.4</td>\n",
       "      <td>5000</td>\n",
       "      <td>0.0</td>\n",
       "      <td>1</td>\n",
       "      <td>1</td>\n",
       "      <td>0</td>\n",
       "    </tr>\n",
       "    <tr>\n",
       "      <th>497</th>\n",
       "      <td>7</td>\n",
       "      <td>10.520132</td>\n",
       "      <td>44000000.0</td>\n",
       "      <td>1000000</td>\n",
       "      <td>0.0</td>\n",
       "      <td>3</td>\n",
       "      <td>1</td>\n",
       "      <td>0</td>\n",
       "    </tr>\n",
       "    <tr>\n",
       "      <th>8883</th>\n",
       "      <td>26</td>\n",
       "      <td>2.944439</td>\n",
       "      <td>994000.0</td>\n",
       "      <td>1000</td>\n",
       "      <td>0.0</td>\n",
       "      <td>1</td>\n",
       "      <td>1</td>\n",
       "      <td>0</td>\n",
       "    </tr>\n",
       "  </tbody>\n",
       "</table>\n",
       "</div>"
      ],
      "text/plain": [
       "      Category    Reviews        Size  Installs  Price  Content Rating  Free  \\\n",
       "1486        16   4.844187         1.9     10000    0.0               1     1   \n",
       "7415        14  10.308653  96000000.0   1000000    0.0               4     1   \n",
       "5799        29   2.890372         7.4      5000    0.0               1     1   \n",
       "497          7  10.520132  44000000.0   1000000    0.0               3     1   \n",
       "8883        26   2.944439    994000.0      1000    0.0               1     1   \n",
       "\n",
       "      Paid  \n",
       "1486     0  \n",
       "7415     0  \n",
       "5799     0  \n",
       "497      0  \n",
       "8883     0  "
      ]
     },
     "execution_count": 64,
     "metadata": {},
     "output_type": "execute_result"
    }
   ],
   "source": [
    "X.sample(5)"
   ]
  },
  {
   "cell_type": "code",
   "execution_count": 65,
   "id": "99245f64",
   "metadata": {},
   "outputs": [
    {
     "data": {
      "text/html": [
       "<div>\n",
       "<style scoped>\n",
       "    .dataframe tbody tr th:only-of-type {\n",
       "        vertical-align: middle;\n",
       "    }\n",
       "\n",
       "    .dataframe tbody tr th {\n",
       "        vertical-align: top;\n",
       "    }\n",
       "\n",
       "    .dataframe thead th {\n",
       "        text-align: right;\n",
       "    }\n",
       "</style>\n",
       "<table border=\"1\" class=\"dataframe\">\n",
       "  <thead>\n",
       "    <tr style=\"text-align: right;\">\n",
       "      <th></th>\n",
       "      <th>Rating_category</th>\n",
       "    </tr>\n",
       "  </thead>\n",
       "  <tbody>\n",
       "    <tr>\n",
       "      <th>8399</th>\n",
       "      <td>0</td>\n",
       "    </tr>\n",
       "    <tr>\n",
       "      <th>7880</th>\n",
       "      <td>0</td>\n",
       "    </tr>\n",
       "    <tr>\n",
       "      <th>1806</th>\n",
       "      <td>0</td>\n",
       "    </tr>\n",
       "    <tr>\n",
       "      <th>4703</th>\n",
       "      <td>0</td>\n",
       "    </tr>\n",
       "    <tr>\n",
       "      <th>2694</th>\n",
       "      <td>0</td>\n",
       "    </tr>\n",
       "  </tbody>\n",
       "</table>\n",
       "</div>"
      ],
      "text/plain": [
       "      Rating_category\n",
       "8399                0\n",
       "7880                0\n",
       "1806                0\n",
       "4703                0\n",
       "2694                0"
      ]
     },
     "execution_count": 65,
     "metadata": {},
     "output_type": "execute_result"
    }
   ],
   "source": [
    "y.sample(5)"
   ]
  },
  {
   "cell_type": "markdown",
   "id": "844625bf",
   "metadata": {},
   "source": [
    "# Q15. Split the dataset into train and test."
   ]
  },
  {
   "cell_type": "code",
   "execution_count": 66,
   "id": "030578d2",
   "metadata": {},
   "outputs": [],
   "source": [
    "X_train,X_test,y_train,y_test=train_test_split(X,y,test_size=0.30,random_state=900)"
   ]
  },
  {
   "cell_type": "code",
   "execution_count": 67,
   "id": "e98eec44",
   "metadata": {},
   "outputs": [
    {
     "data": {
      "text/plain": [
       "5196"
      ]
     },
     "execution_count": 67,
     "metadata": {},
     "output_type": "execute_result"
    }
   ],
   "source": [
    "len(X_train)"
   ]
  },
  {
   "cell_type": "code",
   "execution_count": 68,
   "id": "bc752fe1",
   "metadata": {},
   "outputs": [
    {
     "data": {
      "text/plain": [
       "2228"
      ]
     },
     "execution_count": 68,
     "metadata": {},
     "output_type": "execute_result"
    }
   ],
   "source": [
    "len(X_test)"
   ]
  },
  {
   "cell_type": "markdown",
   "id": "433653b3",
   "metadata": {},
   "source": [
    "- We have successfully splitted the dataset into train set and test set\n",
    "- Test is set to .30 percent of total dataset\n",
    "- Train is set to 0.70 percent of total dataset"
   ]
  },
  {
   "cell_type": "markdown",
   "id": "4321469a",
   "metadata": {},
   "source": [
    "# Q16. Standardize the data, so that the values are within a particular range."
   ]
  },
  {
   "cell_type": "code",
   "execution_count": 69,
   "id": "9be593cc",
   "metadata": {},
   "outputs": [
    {
     "data": {
      "text/html": [
       "<div>\n",
       "<style scoped>\n",
       "    .dataframe tbody tr th:only-of-type {\n",
       "        vertical-align: middle;\n",
       "    }\n",
       "\n",
       "    .dataframe tbody tr th {\n",
       "        vertical-align: top;\n",
       "    }\n",
       "\n",
       "    .dataframe thead th {\n",
       "        text-align: right;\n",
       "    }\n",
       "</style>\n",
       "<table border=\"1\" class=\"dataframe\">\n",
       "  <thead>\n",
       "    <tr style=\"text-align: right;\">\n",
       "      <th></th>\n",
       "      <th>Category</th>\n",
       "      <th>Reviews</th>\n",
       "      <th>Size</th>\n",
       "      <th>Installs</th>\n",
       "      <th>Price</th>\n",
       "      <th>Content Rating</th>\n",
       "      <th>Rating_category</th>\n",
       "      <th>Free</th>\n",
       "      <th>Paid</th>\n",
       "    </tr>\n",
       "  </thead>\n",
       "  <tbody>\n",
       "    <tr>\n",
       "      <th>6616</th>\n",
       "      <td>11</td>\n",
       "      <td>5.062595</td>\n",
       "      <td>7.0</td>\n",
       "      <td>50000</td>\n",
       "      <td>0.0</td>\n",
       "      <td>1</td>\n",
       "      <td>0</td>\n",
       "      <td>1</td>\n",
       "      <td>0</td>\n",
       "    </tr>\n",
       "    <tr>\n",
       "      <th>7242</th>\n",
       "      <td>18</td>\n",
       "      <td>2.484907</td>\n",
       "      <td>6.2</td>\n",
       "      <td>1000</td>\n",
       "      <td>0.0</td>\n",
       "      <td>1</td>\n",
       "      <td>1</td>\n",
       "      <td>1</td>\n",
       "      <td>0</td>\n",
       "    </tr>\n",
       "    <tr>\n",
       "      <th>9</th>\n",
       "      <td>0</td>\n",
       "      <td>4.804021</td>\n",
       "      <td>3.1</td>\n",
       "      <td>10000</td>\n",
       "      <td>0.0</td>\n",
       "      <td>1</td>\n",
       "      <td>0</td>\n",
       "      <td>1</td>\n",
       "      <td>0</td>\n",
       "    </tr>\n",
       "    <tr>\n",
       "      <th>2326</th>\n",
       "      <td>20</td>\n",
       "      <td>8.243808</td>\n",
       "      <td>16000000.0</td>\n",
       "      <td>100000</td>\n",
       "      <td>0.0</td>\n",
       "      <td>1</td>\n",
       "      <td>0</td>\n",
       "      <td>1</td>\n",
       "      <td>0</td>\n",
       "    </tr>\n",
       "    <tr>\n",
       "      <th>1647</th>\n",
       "      <td>18</td>\n",
       "      <td>10.260777</td>\n",
       "      <td>24000000.0</td>\n",
       "      <td>1000000</td>\n",
       "      <td>0.0</td>\n",
       "      <td>1</td>\n",
       "      <td>0</td>\n",
       "      <td>1</td>\n",
       "      <td>0</td>\n",
       "    </tr>\n",
       "  </tbody>\n",
       "</table>\n",
       "</div>"
      ],
      "text/plain": [
       "      Category    Reviews        Size  Installs  Price  Content Rating  \\\n",
       "6616        11   5.062595         7.0     50000    0.0               1   \n",
       "7242        18   2.484907         6.2      1000    0.0               1   \n",
       "9            0   4.804021         3.1     10000    0.0               1   \n",
       "2326        20   8.243808  16000000.0    100000    0.0               1   \n",
       "1647        18  10.260777  24000000.0   1000000    0.0               1   \n",
       "\n",
       "      Rating_category  Free  Paid  \n",
       "6616                0     1     0  \n",
       "7242                1     1     0  \n",
       "9                   0     1     0  \n",
       "2326                0     1     0  \n",
       "1647                0     1     0  "
      ]
     },
     "execution_count": 69,
     "metadata": {},
     "output_type": "execute_result"
    }
   ],
   "source": [
    "app3.sample(5)"
   ]
  },
  {
   "cell_type": "code",
   "execution_count": 70,
   "id": "2335f788",
   "metadata": {},
   "outputs": [],
   "source": [
    "mms=MinMaxScaler()"
   ]
  },
  {
   "cell_type": "code",
   "execution_count": 71,
   "id": "8abe2df1",
   "metadata": {},
   "outputs": [],
   "source": [
    "X_train=pd.DataFrame(mms.fit_transform(X_train))"
   ]
  },
  {
   "cell_type": "code",
   "execution_count": 72,
   "id": "8c93b442",
   "metadata": {},
   "outputs": [],
   "source": [
    "X_test=pd.DataFrame(mms.transform(X_test))"
   ]
  },
  {
   "cell_type": "markdown",
   "id": "774ae8cb",
   "metadata": {},
   "source": [
    "- We have Normalized the dataset \n",
    "- Now the range of values lie within a particular range\n",
    "- Range of values in dataset is: 0 and 1"
   ]
  }
 ],
 "metadata": {
  "kernelspec": {
   "display_name": "Python 3 (ipykernel)",
   "language": "python",
   "name": "python3"
  },
  "language_info": {
   "codemirror_mode": {
    "name": "ipython",
    "version": 3
   },
   "file_extension": ".py",
   "mimetype": "text/x-python",
   "name": "python",
   "nbconvert_exporter": "python",
   "pygments_lexer": "ipython3",
   "version": "3.11.4"
  }
 },
 "nbformat": 4,
 "nbformat_minor": 5
}
